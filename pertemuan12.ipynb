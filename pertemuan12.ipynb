{
  "nbformat": 4,
  "nbformat_minor": 0,
  "metadata": {
    "colab": {
      "name": "pertemuan12.ipynb",
      "provenance": [],
      "authorship_tag": "ABX9TyNuifkmrgRqDjq8BhTmcu/d",
      "include_colab_link": true
    },
    "kernelspec": {
      "name": "python3",
      "display_name": "Python 3"
    }
  },
  "cells": [
    {
      "cell_type": "markdown",
      "metadata": {
        "id": "view-in-github",
        "colab_type": "text"
      },
      "source": [
        "<a href=\"https://colab.research.google.com/github/frdnprstyo/Tugas---Tugas-PEMROGRAMAN-PYTHON/blob/master/pertemuan12.ipynb\" target=\"_parent\"><img src=\"https://colab.research.google.com/assets/colab-badge.svg\" alt=\"Open In Colab\"/></a>"
      ]
    },
    {
      "cell_type": "code",
      "metadata": {
        "id": "OJfB4HxtU7s5"
      },
      "source": [
        "import numpy as np"
      ],
      "execution_count": 1,
      "outputs": []
    },
    {
      "cell_type": "code",
      "metadata": {
        "id": "GwzQ8IIuVFON"
      },
      "source": [
        "#NtL = Numeric to Logarithmic\r\n",
        "#LtN = Logarithmic to Numeric\r\n",
        "NtL= lambda x: 10*np.log10(x)\r\n",
        "LtN= lambda x: 10**(x/10)                 "
      ],
      "execution_count": 3,
      "outputs": []
    },
    {
      "cell_type": "code",
      "metadata": {
        "id": "RFOaVJ83VH5-"
      },
      "source": [
        "#C1 and C2 values varies according to the frequency (fc)\r\n",
        "def valueC(fc):\r\n",
        "  if (fc>=400 or fc<=1500):\r\n",
        "    c1 = 69.55\r\n",
        "    c2 = 26.16 \r\n",
        "    return c1,c2\r\n",
        "  else:\r\n",
        "    if (fc>1500 or fc<=2000):\r\n",
        "      c1 = 46.3 \r\n",
        "      c2 = 33.9\r\n",
        "      return c1,c2"
      ],
      "execution_count": 4,
      "outputs": []
    },
    {
      "cell_type": "code",
      "metadata": {
        "colab": {
          "base_uri": "https://localhost:8080/"
        },
        "id": "i3bRZ4KAVKNF",
        "outputId": "cc853e47-2f12-40c2-fea7-74ce9306cda3"
      },
      "source": [
        "C1,C2 = valueC(1000)\r\n",
        "print(\"c1 = \",C1)\r\n",
        "print(\"c2 = \",C2)"
      ],
      "execution_count": 5,
      "outputs": [
        {
          "output_type": "stream",
          "text": [
            "c1 =  69.55\n",
            "c2 =  26.16\n"
          ],
          "name": "stdout"
        }
      ]
    },
    {
      "cell_type": "code",
      "metadata": {
        "id": "te0Eg11bVPDP"
      },
      "source": [
        "#The Value of a(hR) can be calculated using the formula a(hR)=[1.1log(fc)−0.7]hR−[1.56log(fc)−0.8]\r\n",
        "def valueA(fc,hr):\r\n",
        "  ahr = (1.1*np.log10(fc)-0.7)*hr - (1.56*np.log10(fc)-0.8)\r\n",
        "  return ahr"
      ],
      "execution_count": 6,
      "outputs": []
    },
    {
      "cell_type": "code",
      "metadata": {
        "colab": {
          "base_uri": "https://localhost:8080/"
        },
        "id": "gPXSvsTaVR_l",
        "outputId": "aa9274d9-c657-4b5e-a013-7f19eb70b128"
      },
      "source": [
        "AHR= valueA(1000,10)\r\n",
        "print(\"ahr = \",AHR)"
      ],
      "execution_count": 7,
      "outputs": [
        {
          "output_type": "stream",
          "text": [
            "ahr =  22.120000000000008\n"
          ],
          "name": "stdout"
        }
      ]
    },
    {
      "cell_type": "code",
      "metadata": {
        "id": "qOSKBcy9VU2u"
      },
      "source": [
        "def valueCM(area,fc):\r\n",
        "  if area =='urban':\r\n",
        "    cm=0\r\n",
        "    return cm\r\n",
        "  else:\r\n",
        "    if area =='suburban':\r\n",
        "      cm= -2*np.log10(fc)**2 - 5.4\r\n",
        "      return cm\r\n",
        "    else:\r\n",
        "      if area =='open':\r\n",
        "        cm= (-4.78*np.log10(fc)**2)+(18.33*np.log10(fc))-40.94\r\n",
        "      return cm"
      ],
      "execution_count": 8,
      "outputs": []
    },
    {
      "cell_type": "code",
      "metadata": {
        "colab": {
          "base_uri": "https://localhost:8080/"
        },
        "id": "zz1lenefVXDm",
        "outputId": "39afc447-f58f-478a-ee00-7984b2263cd3"
      },
      "source": [
        "CM=valueCM(\"open\",1000)\r\n",
        "print(\"cm= \",CM)"
      ],
      "execution_count": 9,
      "outputs": [
        {
          "output_type": "stream",
          "text": [
            "cm=  -28.970000000000006\n"
          ],
          "name": "stdout"
        }
      ]
    },
    {
      "cell_type": "code",
      "metadata": {
        "id": "qHzss6nqVY_N"
      },
      "source": [
        "def ploss(d,fc,area,ht,hr):\r\n",
        "  #Calculate Pathloss\r\n",
        "  Lp = C1 + (C2*np.log10(fc)) - (13.83*np.log10(ht)) - AHR + (44.9 - (6.55*np.log10(ht)))*(np.log10(d)) + CM\r\n",
        "  #Convert to dB\r\n",
        "  Lpdb = NtL(Lp)\r\n",
        "  return Lp,Lpdb"
      ],
      "execution_count": 10,
      "outputs": []
    },
    {
      "cell_type": "code",
      "metadata": {
        "colab": {
          "base_uri": "https://localhost:8080/"
        },
        "id": "TGUavKpTVa9M",
        "outputId": "b1abcdac-0989-4193-b735-2799e94bdc31"
      },
      "source": [
        "PathLoss,PathLossdb = ploss(7,1000,\"open\",50,20)\r\n",
        "print(\"PathLoss = \",PathLoss,\"Watt\")\r\n",
        "print(\"PathLoss = \",PathLossdb,\"dB\")"
      ],
      "execution_count": 11,
      "outputs": [
        {
          "output_type": "stream",
          "text": [
            "PathLoss =  101.98368159103964 Watt\n",
            "PathLoss =  20.085306858606458 dB\n"
          ],
          "name": "stdout"
        }
      ]
    }
  ]
}